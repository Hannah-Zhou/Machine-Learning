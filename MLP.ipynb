{
 "cells": [
  {
   "cell_type": "markdown",
   "metadata": {},
   "source": [
    "# 神经网络实验"
   ]
  },
  {
   "cell_type": "markdown",
   "metadata": {},
   "source": [
    "## 第 0 步：多层感知机（Multi Layer Perceptron, MLP）算法"
   ]
  },
  {
   "cell_type": "code",
   "execution_count": 1,
   "metadata": {},
   "outputs": [],
   "source": [
    "class myMLP3():\n",
    "    \"\"\"\n",
    "        This is a simple implementation for 3-layer neural network (i.e., input layer, hidden layer and output layer)\n",
    "    \"\"\"\n",
    "    def __init__(self, input_layer_size=64, hidden_layer_size=100, output_layer_size=10,\n",
    "                learning_rate=1, epochs=2000):\n",
    "        \"\"\"\n",
    "            MLP3 initilization\n",
    "        \"\"\"\n",
    "        self.input_layer_size = input_layer_size\n",
    "        self.hidden_layer_size = hidden_layer_size\n",
    "        self.output_layer_size = output_layer_size\n",
    "        self.learning_rate = learning_rate\n",
    "        self.epochs = epochs\n",
    "\n",
    "        # 模型参数\n",
    "        self.params = { 'W1': np.random.randn(self.hidden_layer_size, self.input_layer_size),\n",
    "           'b1': np.zeros((self.hidden_layer_size, 1)),\n",
    "           'W2': np.random.randn(self.output_layer_size, self.hidden_layer_size),\n",
    "           'b2': np.zeros((self.output_layer_size, 1))}\n",
    "\n",
    "        # 缓存变量：保留前向计算函数产生的汇聚值（非线性变换单元输入）和激励值（非线性变换单元输出）\n",
    "        self.cache = {}\n",
    "        \n",
    "        # 梯度变量：保留反向传播函数计算得到的模型参数W1,b1,W2,b2的更新梯度\n",
    "        self.grads = {}\n",
    "\n",
    "    def sigmoid(self, z):\n",
    "        \"\"\"\n",
    "            sigmoid function for nonlinear activation\n",
    "        \"\"\"\n",
    "        a = 1 / (1 + np.exp(-z))\n",
    "        return a\n",
    "\n",
    "    def softmax(self, z):\n",
    "        \"\"\"\n",
    "            softmax function for output\n",
    "        \"\"\"\n",
    "        a = np.exp(z) / np.sum(np.exp(z), axis=0)\n",
    "        return a\n",
    "\n",
    "    def compute_multiclass_loss(self, Y, Y_hat):\n",
    "        \"\"\"\n",
    "            loss function for multiclass classification\n",
    "        \"\"\"\n",
    "        # 交叉熵损失\n",
    "        L_sum = np.sum(np.multiply(Y, np.log(Y_hat)))\n",
    "        sample_num = Y.shape[1]\n",
    "        L = -(1/sample_num) * L_sum\n",
    "        return L\n",
    "\n",
    "    def feed_forward(self, X):\n",
    "        \"\"\"\n",
    "            forward computation\n",
    "        \"\"\"\n",
    "        # 前向计算：计算非线性截点的汇聚值（非线性变换单元输入）和激励值（非线性变换单元输出）\n",
    "        self.cache['Z1'] = np.matmul(self.params[\"W1\"], X) + self.params[\"b1\"]\n",
    "        self.cache['A1'] = self.sigmoid(self.cache['Z1'])                                \n",
    "        self.cache['Z2'] = np.matmul(self.params[\"W2\"], self.cache[\"A1\"]) + self.params[\"b2\"]                     \n",
    "        self.cache['A2'] = self.softmax(self.cache['Z2'])\n",
    "\n",
    "    def back_propagate(self, X, Y):\n",
    "        \"\"\"\n",
    "            backward propagation\n",
    "        \"\"\"\n",
    "        # 反向传播：计算模型参数W1,b1,W2,b2的更新梯度\n",
    "        sample_num = X.shape[1]\n",
    "\n",
    "        dZ2 = self.cache[\"A2\"] - Y\n",
    "        dW2 = (1./sample_num) * np.matmul(dZ2, self.cache[\"A1\"].T)\n",
    "        db2 = (1./sample_num) * np.sum(dZ2, axis=1, keepdims=True)\n",
    "        \n",
    "        dA1 = np.matmul(self.params[\"W2\"].T, dZ2)\n",
    "        dZ1 = dA1 * self.sigmoid(self.cache[\"Z1\"]) * (1 - self.sigmoid(self.cache[\"Z1\"]))\n",
    "        dW1 = (1./sample_num) * np.matmul(dZ1, X.T)\n",
    "        db1 = (1./sample_num) * np.sum(dZ1, axis=1, keepdims=True)\n",
    "\n",
    "        self.grads = {\"dW1\": dW1, \"db1\": db1, \"dW2\": dW2, \"db2\": db2}\n",
    "        return self.grads\n",
    "\n",
    "    def train(self, X, Y):\n",
    "        \"\"\"\n",
    "            MLP3 training\n",
    "        \"\"\"\n",
    "        for i in range(epochs):\n",
    "            self.feed_forward(X)\n",
    "            self.back_propagate(X, Y)\n",
    "\n",
    "            # 参数更新：梯度下降法\n",
    "            self.params['W2'] = self.params['W2'] - self.learning_rate * self.grads['dW2']\n",
    "            self.params['b2'] = self.params['b2'] - self.learning_rate * self.grads['db2']\n",
    "            self.params['W1'] = self.params['W1'] - self.learning_rate * self.grads['dW1']\n",
    "            self.params['b1'] = self.params['b1'] - self.learning_rate * self.grads['db1']\n",
    "\n",
    "            if (i % 20 == 0):\n",
    "                print(\"Epoch\", i, \"cost: \", self.compute_multiclass_loss(Y, self.cache[\"A2\"]))\n",
    "            elif (i==epochs-1):\n",
    "                print(\"Epoch\", epochs, \"cost: \", self.compute_multiclass_loss(Y, self.cache[\"A2\"]))\n",
    "        #return self.params\n",
    "\n",
    "    def predict(self, X):\n",
    "        \"\"\"\n",
    "            MLP3 prediction\n",
    "        \"\"\"\n",
    "        self.feed_forward(X)\n",
    "        return np.argmax(self.cache[\"A2\"], axis=0)"
   ]
  },
  {
   "cell_type": "markdown",
   "metadata": {},
   "source": [
    "## 第 1 步：准备实验数据 "
   ]
  },
  {
   "cell_type": "code",
   "execution_count": 2,
   "metadata": {},
   "outputs": [],
   "source": [
    "import numpy as np\n",
    "from sklearn.datasets import load_digits\n",
    "from sklearn.metrics import classification_report, confusion_matrix\n",
    "from sklearn.model_selection import train_test_split\n",
    "from sklearn.preprocessing import minmax_scale\n",
    "from sklearn.preprocessing import OneHotEncoder"
   ]
  },
  {
   "cell_type": "code",
   "execution_count": 3,
   "metadata": {},
   "outputs": [],
   "source": [
    "digits_dataset = load_digits()\n",
    "\n",
    "X = minmax_scale(digits_dataset.data) # 特征逐维归一化\n",
    "ohe = OneHotEncoder()\n",
    "y = np.array(ohe.fit_transform(digits_dataset.target.reshape(-1,1)).todense()) # 将类标签转变为one hot型变量\n",
    "\n",
    "X_train, X_test, y_train, y_test = train_test_split(X, y, test_size=0.1, random_state=1)\n",
    " \n",
    "np.random.seed(1)\n",
    "shuffle_index = np.random.permutation(X_train.shape[0]) # 对训练集打乱顺序 \n",
    "X_train = X_train[shuffle_index, :]\n",
    "y_train = y_train[shuffle_index, :]"
   ]
  },
  {
   "cell_type": "code",
   "execution_count": 4,
   "metadata": {},
   "outputs": [
    {
     "data": {
      "image/png": "[encoded data removed]",
      "text/plain": [
       "<Figure size 720x144 with 20 Axes>"
      ]
     },
     "metadata": {},
     "output_type": "display_data"
    }
   ],
   "source": [
    "# 绘制样例图片\n",
    "import matplotlib.pyplot as plt\n",
    "%matplotlib inline\n",
    " \n",
    "fig = plt.figure(figsize=(10, 2))\n",
    "fig.subplots_adjust(left=0, right=1, bottom=0, top=1, hspace=0.05, wspace=0.05)\n",
    "\n",
    "for i in range(20):\n",
    "    ax = fig.add_subplot(2, 10, i + 1, xticks=[], yticks=[])\n",
    "    ax.imshow(X_train[i,:].reshape(8,8), cmap=plt.cm.binary, interpolation='nearest')\n",
    "    ax.text(0, 7, '{}'.format(np.argwhere(y_train[i,:]==1)[0][0]))\n",
    "\n",
    "plt.show()"
   ]
  },
  {
   "cell_type": "markdown",
   "metadata": {},
   "source": [
    "## 第 2 步：使用反向传播（Back propagation, BP）算法训练模型"
   ]
  },
  {
   "cell_type": "code",
   "execution_count": 5,
   "metadata": {},
   "outputs": [
    {
     "name": "stdout",
     "output_type": "stream",
     "text": [
      "Epoch 0 cost:  14.688652865179417\n",
      "Epoch 20 cost:  0.8245247058208665\n",
      "Epoch 40 cost:  0.40402247012741915\n",
      "Epoch 60 cost:  0.26273335749492155\n",
      "Epoch 80 cost:  0.20847926641516004\n",
      "Epoch 100 cost:  0.17900463964161958\n",
      "Epoch 120 cost:  0.15806566509070102\n",
      "Epoch 140 cost:  0.14216942865720078\n",
      "Epoch 160 cost:  0.1295482583554408\n",
      "Epoch 180 cost:  0.11919695227463499\n",
      "Epoch 200 cost:  0.11090018825265255\n"
     ]
    }
   ],
   "source": [
    "# 实验参数：选择不同的隐含层结点个数、学习率和训练循环迭代次数\n",
    "hidden_layer_size = 100 # 隐含层结点个数\n",
    "learning_rate = 1 # 学习率\n",
    "epochs = 200 # BP算法循环迭代次数\n",
    "\n",
    "input_layer_size = X_train.shape[1]  # 输入层结点数，等于64 （8*8图像像素）\n",
    "output_layer_size = y_train.shape[1] # 输出层结点数，等于10 （0,1,...,9个类别） \n",
    "\n",
    "# 模型初始化及训练\n",
    "mlp3 = myMLP3(input_layer_size, hidden_layer_size, output_layer_size, learning_rate, epochs) # 模型初始化\n",
    "mlp3.train(X_train.T, y_train.T) # 模型训练"
   ]
  },
  {
   "cell_type": "markdown",
   "metadata": {},
   "source": [
    "## 第 3 步：模型测试并输出测试结果"
   ]
  },
  {
   "cell_type": "code",
   "execution_count": 6,
   "metadata": {},
   "outputs": [
    {
     "name": "stdout",
     "output_type": "stream",
     "text": [
      "confusion matrix: \n",
      " [[20  0  0  0  0  0  0  0  0  0]\n",
      " [ 0 18  0  0  0  0  1  0  0  0]\n",
      " [ 0  0 21  0  0  0  0  0  0  0]\n",
      " [ 0  0  0 22  0  0  0  0  0  0]\n",
      " [ 0  0  0  0 18  0  0  0  0  0]\n",
      " [ 0  0  0  0  0 17  0  0  0  0]\n",
      " [ 0  0  0  0  0  0 16  0  0  0]\n",
      " [ 0  0  0  1  0  0  0 20  0  0]\n",
      " [ 0  0  0  0  0  1  0  0 14  0]\n",
      " [ 0  0  0  0  0  1  0  0  0 10]]\n",
      "\n",
      "classification report: \n",
      "               precision    recall  f1-score   support\n",
      "\n",
      "           0       1.00      1.00      1.00        20\n",
      "           1       1.00      0.95      0.97        19\n",
      "           2       1.00      1.00      1.00        21\n",
      "           3       0.96      1.00      0.98        22\n",
      "           4       1.00      1.00      1.00        18\n",
      "           5       0.89      1.00      0.94        17\n",
      "           6       0.94      1.00      0.97        16\n",
      "           7       1.00      0.95      0.98        21\n",
      "           8       1.00      0.93      0.97        15\n",
      "           9       1.00      0.91      0.95        11\n",
      "\n",
      "    accuracy                           0.98       180\n",
      "   macro avg       0.98      0.97      0.98       180\n",
      "weighted avg       0.98      0.98      0.98       180\n",
      "\n"
     ]
    }
   ],
   "source": [
    "# 模型测试\n",
    "predictions = mlp3.predict(X_test.T) # 预测标签\n",
    "labels = np.argmax(y_test.T, axis=0) # 标答标签\n",
    "\n",
    "print('confusion matrix: \\n', confusion_matrix(labels, predictions)) # 输出分类混淆矩阵\n",
    "print('\\nclassification report: \\n', classification_report(labels, predictions)) # 输出分类报告"
   ]
  },
  {
   "cell_type": "markdown",
   "metadata": {},
   "source": [
    "## 第 4 步：自选测试样本，用学习得到的MLP进行分类"
   ]
  },
  {
   "cell_type": "code",
   "execution_count": 7,
   "metadata": {},
   "outputs": [
    {
     "name": "stdout",
     "output_type": "stream",
     "text": [
      "selected image category is 0\n"
     ]
    },
    {
     "data": {
      "image/png": "[encoded data removed]",
      "text/plain": [
       "<Figure size 432x288 with 1 Axes>"
      ]
     },
     "metadata": {
      "needs_background": "light"
     },
     "output_type": "display_data"
    }
   ],
   "source": [
    "# 实验参数：自选其他的图像，然后用学习得到的MLP分类器进行预测，比对预测结果与实际结果的一致性\n",
    "new_idx = 0;\n",
    "assert my_idx in range(y.shape[0])\n",
    "X_new = X[new_idx]\n",
    "y_new = y[new_idx]\n",
    "print('selected image category is %d' % np.where(y_new==1)[0][0])\n",
    "plt.imshow(X_new.reshape(8,8), cmap=plt.cm.binary, interpolation='nearest')\n",
    "plt.show()"
   ]
  },
  {
   "cell_type": "code",
   "execution_count": 8,
   "metadata": {},
   "outputs": [
    {
     "name": "stdout",
     "output_type": "stream",
     "text": [
      "MLP predicted category is 0\n"
     ]
    }
   ],
   "source": [
    "y_predict = mlp3.predict(my_X.reshape(-1,1))\n",
    "print('MLP predicted category is %d' % y_predictprediction)"
   ]
  }
 ],
 "metadata": {
  "kernelspec": {
   "display_name": "Python 3",
   "language": "python",
   "name": "python3"
  },
  "language_info": {
   "codemirror_mode": {
    "name": "ipython",
    "version": 3
   },
   "file_extension": ".py",
   "mimetype": "text/x-python",
   "name": "python",
   "nbconvert_exporter": "python",
   "pygments_lexer": "ipython3",
   "version": "3.7.6"
  }
 },
 "nbformat": 4,
 "nbformat_minor": 4
}
